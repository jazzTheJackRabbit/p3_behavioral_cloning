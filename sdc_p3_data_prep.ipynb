{
 "cells": [
  {
   "cell_type": "code",
   "execution_count": 1,
   "metadata": {
    "collapsed": true
   },
   "outputs": [],
   "source": [
    "%load_ext autoreload\n",
    "%autoreload 2"
   ]
  },
  {
   "cell_type": "code",
   "execution_count": 19,
   "metadata": {
    "collapsed": true
   },
   "outputs": [],
   "source": [
    "import pandas as pd\n",
    "import cv2\n",
    "from keras.models import Sequential\n",
    "from keras.layers import Dense, Flatten\n",
    "import numpy as np\n",
    "\n",
    "def read_images(data):\n",
    "    images = []\n",
    "\n",
    "    for image_path in data['center']:\n",
    "        image = cv2.imread(image_path)\n",
    "        images.append(image)\n",
    "        \n",
    "    return images\n",
    "\n",
    "def read_steering_measurements(data):\n",
    "    measurements = []\n",
    "    \n",
    "    for measurement in data['steering']:\n",
    "        measurements.append(measurement)\n",
    "        \n",
    "    return measurements\n",
    "\n",
    "data = pd.read_csv('data/driving_log.csv')\n",
    "data.columns = ['center', 'left', 'right', 'steering', 'throttle', 'brake', 'speed']\n",
    "\n",
    "X = np.array(read_images(data))\n",
    "y = np.array(read_steering_measurements(data))\n",
    "\n",
    "model = Sequential()\n",
    "model.add(Flatten(input_shape = X[0].shape))\n",
    "model.add(Dense(1))\n",
    "model.compile(loss='mse', optimizer='adam')\n",
    "model.fit(X, y, validation_split=0.2, shuffle=True)\n",
    "\n",
    "model.save('model.h5')"
   ]
  }
 ],
 "metadata": {
  "kernelspec": {
   "display_name": "Python 3",
   "language": "python",
   "name": "python3"
  },
  "language_info": {
   "codemirror_mode": {
    "name": "ipython",
    "version": 3
   },
   "file_extension": ".py",
   "mimetype": "text/x-python",
   "name": "python",
   "nbconvert_exporter": "python",
   "pygments_lexer": "ipython3",
   "version": "3.6.2"
  }
 },
 "nbformat": 4,
 "nbformat_minor": 2
}
