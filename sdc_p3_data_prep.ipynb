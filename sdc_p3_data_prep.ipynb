{
 "cells": [
  {
   "cell_type": "code",
   "execution_count": 1,
   "metadata": {},
   "outputs": [],
   "source": [
    "%load_ext autoreload\n",
    "%autoreload 2"
   ]
  },
  {
   "cell_type": "code",
   "execution_count": 2,
   "metadata": {
    "collapsed": true
   },
   "outputs": [],
   "source": [
    "import pandas as pd"
   ]
  },
  {
   "cell_type": "code",
   "execution_count": 3,
   "metadata": {},
   "outputs": [],
   "source": [
    "import cv2"
   ]
  },
  {
   "cell_type": "code",
   "execution_count": 4,
   "metadata": {},
   "outputs": [
    {
     "name": "stderr",
     "output_type": "stream",
     "text": [
      "Using TensorFlow backend.\n"
     ]
    }
   ],
   "source": [
    "from keras.models import Sequential"
   ]
  },
  {
   "cell_type": "code",
   "execution_count": 5,
   "metadata": {
    "collapsed": true
   },
   "outputs": [],
   "source": [
    "from keras.layers import Dense, Flatten"
   ]
  },
  {
   "cell_type": "code",
   "execution_count": 6,
   "metadata": {
    "collapsed": true
   },
   "outputs": [],
   "source": [
    "import numpy as np"
   ]
  },
  {
   "cell_type": "code",
   "execution_count": 7,
   "metadata": {
    "collapsed": true
   },
   "outputs": [],
   "source": [
    "data = pd.read_csv('data/driving_log.csv')"
   ]
  },
  {
   "cell_type": "code",
   "execution_count": 8,
   "metadata": {},
   "outputs": [],
   "source": [
    "data.columns = ['center', 'left', 'right', 'steering', 'throttle', 'brake', 'speed']"
   ]
  },
  {
   "cell_type": "code",
   "execution_count": 9,
   "metadata": {
    "collapsed": true
   },
   "outputs": [],
   "source": [
    "def read_images(data):\n",
    "    images = []\n",
    "\n",
    "    for image_path in data['center']:\n",
    "        image = cv2.imread(image_path)\n",
    "        images.append(image)\n",
    "        \n",
    "    return images"
   ]
  },
  {
   "cell_type": "code",
   "execution_count": 10,
   "metadata": {
    "collapsed": true
   },
   "outputs": [],
   "source": [
    "def read_steering_measurements(data):\n",
    "    measurements = []\n",
    "    \n",
    "    for measurement in data['steering']:\n",
    "        measurements.append(measurement)\n",
    "        \n",
    "    return measurements"
   ]
  },
  {
   "cell_type": "code",
   "execution_count": 11,
   "metadata": {
    "collapsed": true
   },
   "outputs": [],
   "source": [
    "X = np.array(read_images(data))"
   ]
  },
  {
   "cell_type": "code",
   "execution_count": 12,
   "metadata": {
    "collapsed": true
   },
   "outputs": [],
   "source": [
    "y = np.array(read_steering_measurements(data))"
   ]
  },
  {
   "cell_type": "code",
   "execution_count": 13,
   "metadata": {
    "collapsed": true
   },
   "outputs": [],
   "source": [
    "model = Sequential()"
   ]
  },
  {
   "cell_type": "code",
   "execution_count": 14,
   "metadata": {
    "collapsed": true
   },
   "outputs": [],
   "source": [
    "model.add(Flatten(input_shape = X[0].shape))"
   ]
  },
  {
   "cell_type": "code",
   "execution_count": 15,
   "metadata": {
    "collapsed": true
   },
   "outputs": [],
   "source": [
    "model.add(Dense(1))"
   ]
  },
  {
   "cell_type": "code",
   "execution_count": 16,
   "metadata": {
    "collapsed": true
   },
   "outputs": [],
   "source": [
    "model.compile(loss='mse', optimizer='adam')"
   ]
  },
  {
   "cell_type": "code",
   "execution_count": 17,
   "metadata": {},
   "outputs": [
    {
     "name": "stdout",
     "output_type": "stream",
     "text": [
      "Train on 939 samples, validate on 235 samples\n",
      "Epoch 1/10\n",
      "939/939 [==============================] - 0s - loss: 25333854.6806 - val_loss: 5777501.6915\n",
      "Epoch 2/10\n",
      "939/939 [==============================] - 0s - loss: 1127000.3444 - val_loss: 41432.3606\n",
      "Epoch 3/10\n",
      "939/939 [==============================] - 0s - loss: 72344.0795 - val_loss: 20172.8369\n",
      "Epoch 4/10\n",
      "939/939 [==============================] - 0s - loss: 25189.2308 - val_loss: 12960.8049\n",
      "Epoch 5/10\n",
      "939/939 [==============================] - 0s - loss: 15007.3784 - val_loss: 13194.9560\n",
      "Epoch 6/10\n",
      "939/939 [==============================] - 0s - loss: 11243.1781 - val_loss: 10494.5997\n",
      "Epoch 7/10\n",
      "939/939 [==============================] - 0s - loss: 9476.2028 - val_loss: 14546.6357\n",
      "Epoch 8/10\n",
      "939/939 [==============================] - 0s - loss: 9277.8327 - val_loss: 12828.8469\n",
      "Epoch 9/10\n",
      "939/939 [==============================] - 0s - loss: 6529.0071 - val_loss: 8970.5303\n",
      "Epoch 10/10\n",
      "939/939 [==============================] - 0s - loss: 5818.0804 - val_loss: 10197.1512\n"
     ]
    },
    {
     "data": {
      "text/plain": [
       "<keras.callbacks.History at 0x125186908>"
      ]
     },
     "execution_count": 17,
     "metadata": {},
     "output_type": "execute_result"
    }
   ],
   "source": [
    "model.fit(X, y, validation_split=0.2, shuffle=True)"
   ]
  },
  {
   "cell_type": "code",
   "execution_count": 18,
   "metadata": {},
   "outputs": [],
   "source": [
    "model.save('model.h5')"
   ]
  }
 ],
 "metadata": {
  "kernelspec": {
   "display_name": "Python 3",
   "language": "python",
   "name": "python3"
  },
  "language_info": {
   "codemirror_mode": {
    "name": "ipython",
    "version": 3
   },
   "file_extension": ".py",
   "mimetype": "text/x-python",
   "name": "python",
   "nbconvert_exporter": "python",
   "pygments_lexer": "ipython3",
   "version": "3.6.2"
  }
 },
 "nbformat": 4,
 "nbformat_minor": 2
}
